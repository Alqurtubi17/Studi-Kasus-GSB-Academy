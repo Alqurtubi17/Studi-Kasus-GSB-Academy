{
 "cells": [
  {
   "cell_type": "markdown",
   "id": "77916db9",
   "metadata": {},
   "source": [
    "## Studi Kasus Employee Churn"
   ]
  },
  {
   "cell_type": "code",
   "execution_count": 1,
   "id": "50d0a92a",
   "metadata": {},
   "outputs": [],
   "source": [
    "import pandas as pd\n",
    "import numpy as np"
   ]
  },
  {
   "cell_type": "code",
   "execution_count": 2,
   "id": "50285386",
   "metadata": {},
   "outputs": [],
   "source": [
    "df = pd.read_csv('employee_churn.csv')"
   ]
  },
  {
   "cell_type": "markdown",
   "id": "2334093d",
   "metadata": {},
   "source": [
    "Analisis Employee Churn adalah sebuah studi terhadap tingkat 'churn' dari karyawan perusahaan. Employee (karyawan) dibilang 'Churn' ketika karyawan tersebut pindah kerja ke kantor lain (berhenti bekerja di kantor asal). Secara garis besar, perusahaan-perusahaan ingin bisa 'memprediksi' employee mana yang akan 'churn', supaya bisa melakukan antisipasi agar employee tersebut tidak jadi 'churn'. Mengapa? Karena...lebih besar ongkos yang dikeluarkan untuk mencari & merekrut karyawan baru, melatih mereka dari 0 lagi, ketimbang mempertahankan employee yang sudah ada. Oleh sebab itu, perusahaan-perusahaan ingin mempelajari faktor-faktor apa saja yang dapat dilihat untuk mengantisipasi 'churn' dari seorang employee. \n",
    "\n",
    "\n",
    "Setiap baris merepresentasi data dari seorang employee. \n",
    "\n",
    "Penjelasan setiap kolom:\n",
    "- `office_distance_from_house`: jarak (dalam meter) kantor ke rumah karyawan\n",
    "- `bonus_salary_percentage`: persentase bonus gaji yang diterima karyawan dalam 6 bulan terakhir\n",
    "- `job_satisfaction`: tingkat kepuasan kerja karyawan\n",
    "- `education_level`: tingkat pendidikan karyawan\n",
    "- `overtime_hour`: lama waktu lembur rata-rata (dalam jam)\n",
    "- `company_latitude`: koordinat garis lintang kantor pusat perusahaan\n",
    "- `company_longitude`: koordinat garis bujur kantor pusat perusahaan\n",
    "- `gender`: apabila 0, berarti perempuan, apabila 1, berarti laki-laki\n",
    "- `churn`: apabila 1, berarti Churn (si karyawan pindah), apabila 0, berarti tidak Churn (karyawan tidak pindah)"
   ]
  },
  {
   "cell_type": "markdown",
   "id": "6fc91e0d",
   "metadata": {},
   "source": [
    "### Soal:\n",
    "\n",
    "1. (30 POIN) Lakukan explorasi dan visualisasi data secara bebas dan tulislah (dalam poin-poin) insights yang Anda peroleh. Berikan minimal 7 poin-poin. \n",
    "2. (20 POIN) Lakukanlah data preparation yang diperlukan (misal: mengubah kolom kategorikal menjadi kolom numerikal, dst). Tuliskanlah langkah-langkah yang Anda lakukan dalam tahap ini. \n",
    "3. (20 POIN) Tentukan False Positive dan False Negative dari kasus ini. Mana yang lebih 'penting' untuk diperhatikan? Mana yang lebih 'penting' untuk kita hindari? False Positive, atau False Negative? \n",
    "4. (30 POIN) Buatlah Machine Learning Model untuk mengklasifikasikan apakah employee akan Churn atau tidak. Kolom 'target' adalah kolom 'Churn'. Evaluasi-lah machine learning model Anda, dan tentukanlah metrik-metrik yang tepat untuk mengukur akurasi dari machine learning model tersebut. \n",
    "\n",
    "### Petunjuk:\n",
    "\n",
    "1. Kerjakanlah pekerjaan kalian di bagian \"Tempat Mengerjakan\" (di bawah)\n",
    "2. Jawablah keempat soal di atas di bagian \"Jawaban\". "
   ]
  },
  {
   "cell_type": "markdown",
   "id": "c06d782a",
   "metadata": {},
   "source": [
    "#### Tempat Mengerjakan:"
   ]
  },
  {
   "cell_type": "code",
   "execution_count": 3,
   "id": "fda6fa4b",
   "metadata": {},
   "outputs": [],
   "source": [
    "## silakan tambahkan lagi cell-cell jika dirasa kurang ##"
   ]
  },
  {
   "cell_type": "code",
   "execution_count": null,
   "id": "48c2e1a0",
   "metadata": {},
   "outputs": [],
   "source": []
  },
  {
   "cell_type": "code",
   "execution_count": null,
   "id": "64a2d944",
   "metadata": {},
   "outputs": [],
   "source": []
  },
  {
   "cell_type": "markdown",
   "id": "78a799a2",
   "metadata": {},
   "source": [
    "### Jawaban:"
   ]
  },
  {
   "cell_type": "markdown",
   "id": "89970123",
   "metadata": {},
   "source": [
    "#### Nomor 1."
   ]
  },
  {
   "cell_type": "markdown",
   "id": "9fdc5d9f",
   "metadata": {},
   "source": [
    "Berikut adalah insights yang saya temui:\n",
    "- [contoh] Karyawan pria memiliki kecenderungan yang lebih tinggi untuk pindah perusahaan. Hal ini dapat dilihat dari ____. "
   ]
  },
  {
   "cell_type": "code",
   "execution_count": null,
   "id": "3a2589f7",
   "metadata": {},
   "outputs": [],
   "source": []
  },
  {
   "cell_type": "markdown",
   "id": "1e023c1c",
   "metadata": {},
   "source": [
    "#### Nomor 2."
   ]
  },
  {
   "cell_type": "markdown",
   "id": "8cb51f94",
   "metadata": {},
   "source": [
    "- Saya melakukan __ pada kolom __ karena __. \n",
    "- Kemudian, saya melakukan __ pada kolom __ karena __. \n",
    "- dst"
   ]
  },
  {
   "cell_type": "code",
   "execution_count": null,
   "id": "56a05438",
   "metadata": {},
   "outputs": [],
   "source": []
  },
  {
   "cell_type": "markdown",
   "id": "b653cf61",
   "metadata": {},
   "source": [
    "#### Nomor 3."
   ]
  },
  {
   "cell_type": "markdown",
   "id": "c02e6951",
   "metadata": {},
   "source": [
    "- False Positive dari kasus ini adalah __.\n",
    "- False Negative dari kasus ini adalah __.\n",
    "- Dalam kasus ini, tipe 'kesalahan' yang lebih penting untuk diperhatikan adalah __ karena __."
   ]
  },
  {
   "cell_type": "code",
   "execution_count": null,
   "id": "819cd031",
   "metadata": {},
   "outputs": [],
   "source": []
  },
  {
   "cell_type": "markdown",
   "id": "2b74c6b2",
   "metadata": {},
   "source": [
    "#### Nomor 4."
   ]
  },
  {
   "cell_type": "markdown",
   "id": "32c2357b",
   "metadata": {},
   "source": [
    "- Saya menggunakan Machine Learning Model: __.\n",
    "- Untuk mengevaluasi model tersebut, saya menggunakan metrik: __, __, dst.\n",
    "- Hasil evaluasi dari model tersebut adalah sebagai berikut:\n",
    "    - [contoh]  RMSE: 90%\n",
    "    - [contoh]  MAE: 0.976"
   ]
  },
  {
   "cell_type": "code",
   "execution_count": null,
   "id": "3cb90af0",
   "metadata": {},
   "outputs": [],
   "source": []
  },
  {
   "cell_type": "code",
   "execution_count": null,
   "id": "5ae670fe",
   "metadata": {},
   "outputs": [],
   "source": []
  }
 ],
 "metadata": {
  "kernelspec": {
   "display_name": "Python 3",
   "language": "python",
   "name": "python3"
  },
  "language_info": {
   "codemirror_mode": {
    "name": "ipython",
    "version": 3
   },
   "file_extension": ".py",
   "mimetype": "text/x-python",
   "name": "python",
   "nbconvert_exporter": "python",
   "pygments_lexer": "ipython3",
   "version": "3.7.0"
  }
 },
 "nbformat": 4,
 "nbformat_minor": 5
}
